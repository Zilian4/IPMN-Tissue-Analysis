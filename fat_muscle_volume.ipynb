{
 "cells": [
  {
   "cell_type": "code",
   "execution_count": 2,
   "metadata": {},
   "outputs": [],
   "source": [
    "import os\n",
    "import numpy as np\n",
    "import nibabel as nib\n",
    "from sklearn.metrics import precision_score,recall_score,f1_score,accuracy_score\n",
    "import pandas as pd"
   ]
  },
  {
   "cell_type": "code",
   "execution_count": 9,
   "metadata": {},
   "outputs": [],
   "source": [
    "muscle_path =\"/Users/zilianghong/Documents/GitHub/IPMN-Tissue-Analysis/AHN05.nii.gz/skeletal_muscle.nii.gz\"\n",
    "torso_path = \"/Users/zilianghong/Documents/GitHub/IPMN-Tissue-Analysis/AHN05.nii.gz/torso_fat.nii.gz\"\n",
    "subcutaneous_path = \"/Users/zilianghong/Documents/GitHub/IPMN-Tissue-Analysis/AHN05.nii.gz/subcutaneous_fat.nii.gz\"\n",
    "images_path = \"/Users/zilianghong/Documents/GitHub/IPMN-Tissue-Analysis/AHN05.nii.gz/AHN05.nii.gz\"\n",
    "\n",
    "torso_img = nib.load(torso_path).get_fdata()\n",
    "subcutaneous_img = nib.load(subcutaneous_path).get_fdata()\n",
    "muscle_img = nib.load(muscle_path).get_fdata()"
   ]
  },
  {
   "cell_type": "code",
   "execution_count": 49,
   "metadata": {},
   "outputs": [],
   "source": [
    "tissue_v = {'name':[],'visceral fat':[],'subcutaneous fat':[],'muscle':[]}\n",
    "# print(f\"{name} value correcting...\")\n",
    "torso_img = torso_img/torso_img.max()\n",
    "subcutaneous_img = subcutaneous_img/subcutaneous_img.max()\n",
    "muscle_img = muscle_img/muscle_img.max()\n",
    "\n",
    "img = nib.load(images_path)\n",
    "voxel_dims = img.header['pixdim'][1:4]\n",
    "voxel_volume = np.prod(voxel_dims)\n",
    "\n",
    "torso_nonzero = np.count_nonzero(torso_img)\n",
    "torso_volume = torso_nonzero * voxel_volume/1000\n",
    "subcutaneous_nonzero = np.count_nonzero(subcutaneous_img)\n",
    "subcutaneous_volume = subcutaneous_nonzero * voxel_volume/1000\n",
    "muscle_nonzero = np.count_nonzero(muscle_img)\n",
    "muscle_volume = muscle_nonzero * voxel_volume/1000\n",
    "\n",
    "tissue_v['name'].append('a')\n",
    "tissue_v['visceral fat'].append(torso_volume)\n",
    "tissue_v['subcutaneous fat'].append(subcutaneous_volume)\n",
    "tissue_v['muscle'].append(muscle_volume)"
   ]
  },
  {
   "cell_type": "code",
   "execution_count": 51,
   "metadata": {},
   "outputs": [],
   "source": [
    "tissue_info = pd.DataFrame(tissue_v)\n",
    "tissue_info.to_csv('./tissue_from_t1.csv', index=False)"
   ]
  }
 ],
 "metadata": {
  "kernelspec": {
   "display_name": "medical-image",
   "language": "python",
   "name": "python3"
  },
  "language_info": {
   "codemirror_mode": {
    "name": "ipython",
    "version": 3
   },
   "file_extension": ".py",
   "mimetype": "text/x-python",
   "name": "python",
   "nbconvert_exporter": "python",
   "pygments_lexer": "ipython3",
   "version": "3.10.15"
  }
 },
 "nbformat": 4,
 "nbformat_minor": 2
}
