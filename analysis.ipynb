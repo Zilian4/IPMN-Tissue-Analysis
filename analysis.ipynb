{
 "cells": [
  {
   "cell_type": "code",
   "execution_count": 28,
   "metadata": {},
   "outputs": [],
   "source": [
    "import numpy as np\n",
    "import matplotlib.pyplot as plt\n",
    "import seaborn as sns\n",
    "from statsmodels.formula.api import ols\n",
    "import pandas as pd\n",
    "pd.set_option('display.max_rows', None)\n",
    "import seaborn as sns\n",
    "import matplotlib.pyplot as plt\n",
    "from statsmodels.formula.api import ols\n",
    "from statsmodels.formula.api import mixedlm\n",
    "from statsmodels.tools.eval_measures import rmse\n",
    "import statsmodels\n",
    "import statsmodels.api as sm\n",
    "import numpy as np\n",
    "from patsy.contrasts import Sum"
   ]
  },
  {
   "cell_type": "code",
   "execution_count": 29,
   "metadata": {},
   "outputs": [
    {
     "name": "stderr",
     "output_type": "stream",
     "text": [
      "/var/folders/9h/n7423dz95lv3x1z3vnm52bqr0000gs/T/ipykernel_40142/3056495064.py:3: FutureWarning: Downcasting behavior in `replace` is deprecated and will be removed in a future version. To retain the old behavior, explicitly call `result.infer_objects(copy=False)`. To opt-in to the future behavior, set `pd.set_option('future.no_silent_downcasting', True)`\n",
      "  dataset.replace({'AHN': 1, 'CAD': 2,'EMC':3,'IU':4, 'MCA':5, 'MCF':6, 'NU':7, 'NYU':8}, inplace=True)\n"
     ]
    }
   ],
   "source": [
    "dataset = pd.read_csv('/Users/zilianghong/Documents/GitHub/IPMN-Tissue-Analysis/IPMN_tissue_data_with_cyst.csv')\n",
    "dataset = dataset.drop(columns=['name','label'])\n",
    "dataset.replace({'AHN': 1, 'CAD': 2,'EMC':3,'IU':4, 'MCA':5, 'MCF':6, 'NU':7, 'NYU':8}, inplace=True)"
   ]
  },
  {
   "cell_type": "code",
   "execution_count": 30,
   "metadata": {},
   "outputs": [],
   "source": [
    "rename_dict = {'cyst':'Y','pancreas':'Y1','visceral fat':\"X2\",'subcutaneous fat':\"X3\",'muscle':\"X1\",'center':\"SUBJ\"}\n",
    "dataset = dataset.rename(columns=rename_dict)"
   ]
  },
  {
   "cell_type": "markdown",
   "metadata": {},
   "source": [
    "## Contrast\n",
    "Is there anysignificant effect of centers on cyst volume? Without blocking"
   ]
  },
  {
   "cell_type": "code",
   "execution_count": 31,
   "metadata": {},
   "outputs": [
    {
     "name": "stdout",
     "output_type": "stream",
     "text": [
      "                            OLS Regression Results                            \n",
      "==============================================================================\n",
      "Dep. Variable:                     Y1   R-squared:                       0.097\n",
      "Model:                            OLS   Adj. R-squared:                  0.078\n",
      "Method:                 Least Squares   F-statistic:                     4.985\n",
      "Date:                Fri, 06 Dec 2024   Prob (F-statistic):           2.24e-05\n",
      "Time:                        22:44:39   Log-Likelihood:                -1637.5\n",
      "No. Observations:                 332   AIC:                             3291.\n",
      "Df Residuals:                     324   BIC:                             3321.\n",
      "Df Model:                           7                                         \n",
      "Covariance Type:            nonrobust                                         \n",
      "==============================================================================\n",
      "                 coef    std err          t      P>|t|      [0.025      0.975]\n",
      "------------------------------------------------------------------------------\n",
      "Intercept     66.4385      8.301      8.003      0.000      50.107      82.770\n",
      "X1             0.0102      0.005      1.890      0.060      -0.000       0.021\n",
      "X2             0.0053      0.002      2.601      0.010       0.001       0.009\n",
      "X1:X2      -9.484e-07   4.41e-07     -2.152      0.032   -1.82e-06   -8.14e-08\n",
      "X3            -0.0076      0.005     -1.607      0.109      -0.017       0.002\n",
      "X1:X3       1.759e-06   2.33e-06      0.755      0.451   -2.83e-06    6.34e-06\n",
      "X2:X3       1.859e-06   1.58e-06      1.179      0.239   -1.24e-06    4.96e-06\n",
      "X1:X2:X3   -6.104e-10   5.85e-10     -1.044      0.297   -1.76e-09     5.4e-10\n",
      "==============================================================================\n",
      "Omnibus:                      228.147   Durbin-Watson:                   1.908\n",
      "Prob(Omnibus):                  0.000   Jarque-Bera (JB):             3805.432\n",
      "Skew:                           2.590   Prob(JB):                         0.00\n",
      "Kurtosis:                      18.756   Cond. No.                     1.25e+11\n",
      "==============================================================================\n",
      "\n",
      "Notes:\n",
      "[1] Standard Errors assume that the covariance matrix of the errors is correctly specified.\n",
      "[2] The condition number is large, 1.25e+11. This might indicate that there are\n",
      "strong multicollinearity or other numerical problems.\n",
      "RMSE:70.60474261281168\n",
      "             df         sum_sq       mean_sq          F    PR(>F)\n",
      "X1          1.0   11263.428085  11263.428085   9.759506  0.001945\n",
      "X2          1.0   13037.255347  13037.255347  11.296487  0.000869\n",
      "X1:X2       1.0    5712.882062   5712.882062   4.950083  0.026778\n",
      "X3          1.0    8624.312326   8624.312326   7.472772  0.006608\n",
      "X1:X3       1.0      22.995373     22.995373   0.019925  0.887835\n",
      "X2:X3       1.0     351.955034    351.955034   0.304961  0.581170\n",
      "X1:X2:X3    1.0    1256.718443   1256.718443   1.088918  0.297489\n",
      "Residual  324.0  373927.811235   1154.098183        NaN       NaN\n"
     ]
    }
   ],
   "source": [
    "Y = dataset['Y']\n",
    "Y1 = dataset['Y1']\n",
    "X1 = dataset['X1']\n",
    "X2 = dataset['X2']\n",
    "X3 = dataset[\"X3\"]\n",
    "X5 = dataset['SUBJ']\n",
    "\n",
    "mod= ols('Y1~ 1+ X1 * X2 * X3', data=dataset).fit()\n",
    "print(mod.summary())\n",
    "\n",
    "ypred = mod.predict(dataset[['X1','X2','X3']])\n",
    "RMSE = rmse(Y, ypred)\n",
    "print('RMSE:' + str(RMSE))\n",
    "\n",
    "# Perform ANOVA\n",
    "anova_table = sm.stats.anova_lm(mod, typ=1)  # Type 2 ANOVA\n",
    "print(anova_table) "
   ]
  },
  {
   "cell_type": "markdown",
   "metadata": {},
   "source": [
    "Repeat experiment, blocking the effect of centers"
   ]
  },
  {
   "cell_type": "code",
   "execution_count": 32,
   "metadata": {},
   "outputs": [
    {
     "name": "stdout",
     "output_type": "stream",
     "text": [
      "                            OLS Regression Results                            \n",
      "==============================================================================\n",
      "Dep. Variable:                     Y1   R-squared:                       0.097\n",
      "Model:                            OLS   Adj. R-squared:                  0.078\n",
      "Method:                 Least Squares   F-statistic:                     4.985\n",
      "Date:                Fri, 06 Dec 2024   Prob (F-statistic):           2.24e-05\n",
      "Time:                        22:44:39   Log-Likelihood:                -1637.5\n",
      "No. Observations:                 332   AIC:                             3291.\n",
      "Df Residuals:                     324   BIC:                             3321.\n",
      "Df Model:                           7                                         \n",
      "Covariance Type:            nonrobust                                         \n",
      "==============================================================================\n",
      "                 coef    std err          t      P>|t|      [0.025      0.975]\n",
      "------------------------------------------------------------------------------\n",
      "Intercept     66.4385      8.301      8.003      0.000      50.107      82.770\n",
      "X1             0.0102      0.005      1.890      0.060      -0.000       0.021\n",
      "X2             0.0053      0.002      2.601      0.010       0.001       0.009\n",
      "X1:X2      -9.484e-07   4.41e-07     -2.152      0.032   -1.82e-06   -8.14e-08\n",
      "X3            -0.0076      0.005     -1.607      0.109      -0.017       0.002\n",
      "X1:X3       1.759e-06   2.33e-06      0.755      0.451   -2.83e-06    6.34e-06\n",
      "X2:X3       1.859e-06   1.58e-06      1.179      0.239   -1.24e-06    4.96e-06\n",
      "X1:X2:X3   -6.104e-10   5.85e-10     -1.044      0.297   -1.76e-09     5.4e-10\n",
      "==============================================================================\n",
      "Omnibus:                      228.147   Durbin-Watson:                   1.908\n",
      "Prob(Omnibus):                  0.000   Jarque-Bera (JB):             3805.432\n",
      "Skew:                           2.590   Prob(JB):                         0.00\n",
      "Kurtosis:                      18.756   Cond. No.                     1.25e+11\n",
      "==============================================================================\n",
      "\n",
      "Notes:\n",
      "[1] Standard Errors assume that the covariance matrix of the errors is correctly specified.\n",
      "[2] The condition number is large, 1.25e+11. This might indicate that there are\n",
      "strong multicollinearity or other numerical problems.\n",
      "RMSE:70.05762363842551\n",
      "             df         sum_sq       mean_sq          F    PR(>F)\n",
      "C(SUBJ)     7.0   15524.529528   2217.789933   2.058463  0.047706\n",
      "X1          1.0   23066.015520  23066.015520  21.408945  0.000005\n",
      "X2          1.0    7424.718423   7424.718423   6.891324  0.009081\n",
      "X1:X2       1.0   23591.162221  23591.162221  21.896365  0.000004\n",
      "X3          1.0    1155.185197   1155.185197   1.072196  0.301239\n",
      "X1:X3       1.0     277.727007    277.727007   0.257775  0.612006\n",
      "X2:X3       1.0     534.553037    534.553037   0.496151  0.481714\n",
      "X1:X2:X3    1.0    1087.399050   1087.399050   1.009280  0.315842\n",
      "Residual  317.0  341536.067923   1077.400845        NaN       NaN\n"
     ]
    }
   ],
   "source": [
    "\n",
    "mod2= ols('Y1~ 1+ X1 * X2 * X3 + C(SUBJ)', data=dataset).fit()\n",
    "print(mod.summary())\n",
    "\n",
    "ypred = mod2.predict(dataset[['X1','X2','X3','SUBJ']])\n",
    "RMSE = rmse(Y, ypred)\n",
    "print('RMSE:' + str(RMSE))\n",
    "\n",
    "# Perform ANOVA\n",
    "anova_table = sm.stats.anova_lm(mod2, typ=1)  # Type 2 ANOVA\n",
    "print(anova_table)"
   ]
  },
  {
   "cell_type": "code",
   "execution_count": 56,
   "metadata": {},
   "outputs": [],
   "source": [
    "import matplotlib.pyplot as plt\n",
    "def show_dis(col):\n",
    "    plt.figure(figsize=(8, 6))  \n",
    "    plt.hist(col, bins=100, color='skyblue', edgecolor='black')  \n",
    "    plt.title('Distribution', fontsize=16)  \n",
    "    plt.xlabel('Value', fontsize=14)  \n",
    "    plt.ylabel('Frequency', fontsize=14)  \n",
    "    plt.grid(alpha=0.3)  \n",
    "    plt.show()"
   ]
  },
  {
   "cell_type": "code",
   "execution_count": 57,
   "metadata": {},
   "outputs": [],
   "source": [
    "# Set the number of bootstrap samples\n",
    "n_bootstrap = 100  # Number of bootstrap datasets to generate\n",
    "\n",
    "# Set the size of each bootstrap sample (same as the original dataset)\n",
    "sample_size = len(dataset)\n",
    "\n",
    "# Create a list to store bootstrap samples\n",
    "bootstrap_samples = []\n",
    "\n",
    "# Generate bootstrap samples\n",
    "for i in range(n_bootstrap):\n",
    "    bootstrap_sample = dataset.sample(n=sample_size, replace=True)\n",
    "    bootstrap_samples.append(bootstrap_sample)\n",
    "bootstrap_df = bootstrap_samples[0]\n",
    "for i in range(1,len(bootstrap_samples)):\n",
    "    bootstrap_df = pd.concat(bootstrap_samples, ignore_index=True)"
   ]
  },
  {
   "cell_type": "code",
   "execution_count": 77,
   "metadata": {},
   "outputs": [
    {
     "name": "stdout",
     "output_type": "stream",
     "text": [
      "                            OLS Regression Results                            \n",
      "==============================================================================\n",
      "Dep. Variable:                     Y1   R-squared:                       0.097\n",
      "Model:                            OLS   Adj. R-squared:                  0.078\n",
      "Method:                 Least Squares   F-statistic:                     4.985\n",
      "Date:                Fri, 06 Dec 2024   Prob (F-statistic):           2.24e-05\n",
      "Time:                        23:28:09   Log-Likelihood:                -1637.5\n",
      "No. Observations:                 332   AIC:                             3291.\n",
      "Df Residuals:                     324   BIC:                             3321.\n",
      "Df Model:                           7                                         \n",
      "Covariance Type:            nonrobust                                         \n",
      "==============================================================================\n",
      "                 coef    std err          t      P>|t|      [0.025      0.975]\n",
      "------------------------------------------------------------------------------\n",
      "Intercept     66.4385      8.301      8.003      0.000      50.107      82.770\n",
      "X1             0.0102      0.005      1.890      0.060      -0.000       0.021\n",
      "X2             0.0053      0.002      2.601      0.010       0.001       0.009\n",
      "X1:X2      -9.484e-07   4.41e-07     -2.152      0.032   -1.82e-06   -8.14e-08\n",
      "X3            -0.0076      0.005     -1.607      0.109      -0.017       0.002\n",
      "X1:X3       1.759e-06   2.33e-06      0.755      0.451   -2.83e-06    6.34e-06\n",
      "X2:X3       1.859e-06   1.58e-06      1.179      0.239   -1.24e-06    4.96e-06\n",
      "X1:X2:X3   -6.104e-10   5.85e-10     -1.044      0.297   -1.76e-09     5.4e-10\n",
      "==============================================================================\n",
      "Omnibus:                      228.147   Durbin-Watson:                   1.908\n",
      "Prob(Omnibus):                  0.000   Jarque-Bera (JB):             3805.432\n",
      "Skew:                           2.590   Prob(JB):                         0.00\n",
      "Kurtosis:                      18.756   Cond. No.                     1.25e+11\n",
      "==============================================================================\n",
      "\n",
      "Notes:\n",
      "[1] Standard Errors assume that the covariance matrix of the errors is correctly specified.\n",
      "[2] The condition number is large, 1.25e+11. This might indicate that there are\n",
      "strong multicollinearity or other numerical problems.\n",
      "RMSE:22.035786961203762\n",
      "           df        sum_sq       mean_sq         F    PR(>F)\n",
      "X1        1.0     52.839987     52.839987  0.021764  0.896247\n",
      "X2        1.0  12265.841642  12265.841642  5.052080  0.153598\n",
      "X1:X2     1.0     31.640163     31.640163  0.013032  0.919540\n",
      "X3        1.0    200.546976    200.546976  0.082602  0.800845\n",
      "X1:X3     1.0   1630.945837   1630.945837  0.671757  0.498573\n",
      "X2:X3     1.0   7946.850407   7946.850407  3.273165  0.212141\n",
      "X1:X2:X3  1.0   5375.816429   5375.816429  2.214202  0.275145\n",
      "Residual  2.0   4855.759070   2427.879535       NaN       NaN\n"
     ]
    }
   ],
   "source": [
    "temp_data = dataset.sample(n=10, replace=True)\n",
    "Y = temp_data['Y']\n",
    "Y1 = temp_data['Y1']\n",
    "X1 = temp_data['X1']\n",
    "X2 = temp_data['X2']\n",
    "X3 = temp_data[\"X3\"]\n",
    "X5 = temp_data['SUBJ']\n",
    "\n",
    "mod2= ols('Y1~ 1+ X1 * X2 * X3', data=temp_data).fit()\n",
    "print(mod.summary())\n",
    "\n",
    "ypred = mod2.predict(temp_data[['X1','X2','X3']])\n",
    "RMSE = rmse(temp_data['Y1'], ypred)\n",
    "print('RMSE:' + str(RMSE))\n",
    "\n",
    "# Perform ANOVA\n",
    "anova_table = sm.stats.anova_lm(mod2, typ=1)  # Type 2 ANOVA\n",
    "print(anova_table)"
   ]
  },
  {
   "cell_type": "code",
   "execution_count": null,
   "metadata": {},
   "outputs": [],
   "source": []
  }
 ],
 "metadata": {
  "kernelspec": {
   "display_name": "medical-image",
   "language": "python",
   "name": "python3"
  },
  "language_info": {
   "codemirror_mode": {
    "name": "ipython",
    "version": 3
   },
   "file_extension": ".py",
   "mimetype": "text/x-python",
   "name": "python",
   "nbconvert_exporter": "python",
   "pygments_lexer": "ipython3",
   "version": "3.10.15"
  }
 },
 "nbformat": 4,
 "nbformat_minor": 2
}
